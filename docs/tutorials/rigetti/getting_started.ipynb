{
 "cells": [
  {
   "cell_type": "markdown",
   "metadata": {
    "id": "6HTRLzyWW5Q1"
   },
   "source": [
    "##### Copyright 2021 The Cirq Developers"
   ]
  },
  {
   "cell_type": "code",
   "execution_count": 1,
   "metadata": {
    "cellView": "form",
    "id": "oOggJBe6W5nF"
   },
   "outputs": [],
   "source": [
    "#@title Licensed under the Apache License, Version 2.0 (the \"License\");\n",
    "# you may not use this file except in compliance with the License.\n",
    "# You may obtain a copy of the License at\n",
    "#\n",
    "# https://www.apache.org/licenses/LICENSE-2.0\n",
    "#\n",
    "# Unless required by applicable law or agreed to in writing, software\n",
    "# distributed under the License is distributed on an \"AS IS\" BASIS,\n",
    "# WITHOUT WARRANTIES OR CONDITIONS OF ANY KIND, either express or implied.\n",
    "# See the License for the specific language governing permissions and\n",
    "# limitations under the License."
   ]
  },
  {
   "cell_type": "markdown",
   "metadata": {
    "id": "9UinLMKSWRkA"
   },
   "source": [
    "# Quantum circuits on Rigetti devices"
   ]
  },
  {
   "cell_type": "markdown",
   "metadata": {
    "id": "8jnX4ti8W6Lg"
   },
   "source": [
    "<table class=\"tfo-notebook-buttons\" align=\"left\">\n",
    "  <td>\n",
    "    <a target=\"_blank\" href=\"https://quantumai.google/cirq/tutorials/rigetti/getting_started\"><img src=\"https://quantumai.google/site-assets/images/buttons/quantumai_logo_1x.png\" />View on QuantumAI</a>\n",
    "  </td>\n",
    "  <td>\n",
    "    <a target=\"_blank\" href=\"https://colab.research.google.com/github/quantumlib/Cirq/blob/master/docs/tutorials/rigetti/getting_started.ipynb\"><img src=\"https://quantumai.google/site-assets/images/buttons/colab_logo_1x.png\" />Run in Google Colab</a>\n",
    "  </td>\n",
    "  <td>\n",
    "    <a target=\"_blank\" href=\"https://github.com/quantumlib/Cirq/blob/master/docs/tutorials/rigetti/getting_started.ipynb\"><img src=\"https://quantumai.google/site-assets/images/buttons/github_logo_1x.png\" />View source on GitHub</a>\n",
    "  </td>\n",
    "  <td>\n",
    "    <a href=\"https://storage.googleapis.com/tensorflow_docs/Cirq/docs/tutorials/rigetti/getting_started.ipynb\"><img src=\"https://quantumai.google/site-assets/images/buttons/download_icon_1x.png\" />Download notebook</a>\n",
    "  </td>\n",
    "</table>"
   ]
  },
  {
   "cell_type": "code",
   "execution_count": 18,
   "metadata": {
    "id": "bd9529db1c0b"
   },
   "outputs": [],
   "source": [
    "try:\n",
    "    import cirq\n",
    "except ImportError:\n",
    "    print(\"installing cirq...\")\n",
    "    !pip install --quiet cirq --pre\n",
    "    print(\"installed cirq.\")"
   ]
  },
  {
   "cell_type": "markdown",
   "metadata": {
    "id": "5726a591732b"
   },
   "source": [
    " Note: this notebook relies on unreleased Cirq features. If you want to try these features, make sure you install cirq via `pip install cirq --pre`."
   ]
  },
  {
   "cell_type": "code",
   "execution_count": 21,
   "metadata": {
    "id": "1557fb5c0574"
   },
   "outputs": [
    {
     "name": "stdout",
     "output_type": "stream",
     "text": [
      "0.12.0.dev\n"
     ]
    }
   ],
   "source": [
    "import cirq\n",
    "\n",
    "print(cirq.__version__)"
   ]
  },
  {
   "cell_type": "markdown",
   "metadata": {
    "id": "e7c88398a37c"
   },
   "source": [
    "try:\n",
    "    import pyquil\n",
    "except ImportError:\n",
    "    print(\"installing pyquil...\")\n",
    "    !pip install --quiet pyquil~=3.0.0\n",
    "    print(\"installed pyquil.\")"
   ]
  },
  {
   "cell_type": "markdown",
   "metadata": {
    "id": "7e4ac20b52e4"
   },
   "source": [
    "# Running a Bell state circuit\n",
    "\n",
    "To demonstrate the basic functionality of the Cirq Rigetti integration, we begin constructing a basic Bell state circuit."
   ]
  },
  {
   "cell_type": "code",
   "execution_count": 22,
   "metadata": {
    "id": "5fc3c30fb03e"
   },
   "outputs": [
    {
     "name": "stdout",
     "output_type": "stream",
     "text": [
      "0: ───H───@───M('m')───\n",
      "          │   │\n",
      "1: ───────X───M────────\n"
     ]
    }
   ],
   "source": [
    "bell_circuit = cirq.Circuit()\n",
    "qubits = cirq.LineQubit.range(2)\n",
    "bell_circuit.append(cirq.H(qubits[0]))\n",
    "bell_circuit.append(cirq.CNOT(qubits[0], qubits[1]))\n",
    "bell_circuit.append(cirq.measure(qubits[0], qubits[1], key='m'))\n",
    "print(bell_circuit)"
   ]
  },
  {
   "cell_type": "markdown",
   "metadata": {
    "id": "fe7b4a94c8d6"
   },
   "source": [
    "Next, we'll import `RigettiQCSService` and list available quantum processors."
   ]
  },
  {
   "cell_type": "code",
   "execution_count": 23,
   "metadata": {
    "id": "952d063c5cf1"
   },
   "outputs": [
    {
     "name": "stdout",
     "output_type": "stream",
     "text": [
      "[\n",
      "    \"Aspen-9\"\n",
      "]\n"
     ]
    }
   ],
   "source": [
    "from cirq_rigetti import RigettiQCSService\n",
    "import json\n",
    "\n",
    "quantum_processors = RigettiQCSService.list_quantum_processors().quantum_processors\n",
    "print(json.dumps([quantum_processor.id for quantum_processor in quantum_processors], sort_keys=True, indent=4))"
   ]
  },
  {
   "cell_type": "markdown",
   "metadata": {
    "id": "d36372ac05aa"
   },
   "source": [
    "For now, we'll instantiate the `RigettiQCSService` as a pyQuil [Quantum Virtual Machine](https://docs.rigetti.com/qcs/references/qvm) based on the topology of one of the available Rigetti quantum processors. At the time of this writing, `Aspen-9` is available.\n",
    "\n",
    "Note, in addition to the quantum processors listed above, you can also instantiate the `RigettiQCSService` by naming an arbitrary virtual device the pyQuil QVM supports. See the documentation for pyquil [get_qc](https://pyquil-docs.rigetti.com/en/stable/apidocs/pyquil.api.html#pyquil.api.get_qc) for more information. "
   ]
  },
  {
   "cell_type": "code",
   "execution_count": 30,
   "metadata": {
    "id": "e814a6986f88"
   },
   "outputs": [
    {
     "name": "stdout",
     "output_type": "stream",
     "text": [
      "Counter({3: 510, 0: 490})\n"
     ]
    }
   ],
   "source": [
    "from cirq_rigetti import circuit_transformers, circuit_sweep_executors, get_rigetti_qcs_service\n",
    "\n",
    "service = get_rigetti_qcs_service(\"Aspen-9\", as_qvm=True, noisy=False)\n",
    "result = service.run(bell_circuit, repetitions=1000)\n",
    "\n",
    "print(result.histogram(key='m'))"
   ]
  },
  {
   "cell_type": "markdown",
   "metadata": {
    "id": "e1b4702074dc"
   },
   "source": [
    "We'll define a function to visually verify the results of our Bell state."
   ]
  },
  {
   "cell_type": "code",
   "execution_count": 31,
   "metadata": {
    "id": "01da874989f1"
   },
   "outputs": [
    {
     "data": {
      "image/png": "[encoded data removed]",
      "text/plain": [
       "<Figure size 432x288 with 1 Axes>"
      ]
     },
     "metadata": {
      "needs_background": "light"
     },
     "output_type": "display_data"
    }
   ],
   "source": [
    "import matplotlib.pyplot as plt\n",
    "import numpy as np\n",
    "\n",
    "def plot_bell_state(result):\n",
    "    labels = list(result.keys())\n",
    "    labels.sort()\n",
    "\n",
    "    values = [result[label] for label in labels]\n",
    "\n",
    "    x = np.arange(len(labels))  # the label locations\n",
    "    width = 0.35  # the width of the bars\n",
    "\n",
    "    fig, ax = plt.subplots()\n",
    "    rects1 = ax.bar(x, values, width, label='Bell state')\n",
    "\n",
    "    # Add some text for labels, title and custom x-axis tick labels, etc.\n",
    "    ax.set_ylabel('Frequency')\n",
    "    ax.set_xticks(x)\n",
    "    ax.set_xticklabels(labels)\n",
    "    ax.set_xlabel('Value')\n",
    "\n",
    "    fig.tight_layout()\n",
    "\n",
    "    plt.show()\n",
    "    \n",
    "plot_bell_state(result.histogram(key='m'))"
   ]
  },
  {
   "cell_type": "markdown",
   "metadata": {
    "id": "a67480865446"
   },
   "source": [
    "As expected, we see states 0 (ie '00') and 3 (ie '11') as the dominant results.\n",
    "\n",
    "You may initialize both the `RigettiQCSService` and `RigettiQCSSampler` with execution functions from the `cirq_rigetti.circuit_sweep_executor` module and transformation functions from `cirq_rigetti.circuit_transformations`.\n",
    "\n",
    "You may invoke these functions with arguments for controlling your circuit execution at a more fine grained level. For instance, you may want add [Pragma statements](https://pyquil-docs.rigetti.com/en/stable/compiler.html#region-specific-compiler-features-through-pragma) to set the [initial rewiring](https://pyquil-docs.rigetti.com/en/stable/compiler.html#initial-rewiring) strategy, invoke [active qubit reset](https://arxiv.org/abs/2001.04449) prior to execution, or explicitly address physical qubits on the quantum computer."
   ]
  },
  {
   "cell_type": "code",
   "execution_count": 32,
   "metadata": {
    "id": "ec8335f28b75"
   },
   "outputs": [
    {
     "name": "stdout",
     "output_type": "stream",
     "text": [
      "RESET\n",
      "PRAGMA INITIAL_REWIRING \"GREEDY\"\n",
      "DECLARE m0 BIT[2]\n",
      "H 4\n",
      "CNOT 4 5\n",
      "MEASURE 4 m0[0]\n",
      "MEASURE 5 m0[1]\n",
      "\n"
     ]
    },
    {
     "data": {
      "image/png": "[encoded data removed]",
      "text/plain": [
       "<Figure size 432x288 with 1 Axes>"
      ]
     },
     "metadata": {
      "needs_background": "light"
     },
     "output_type": "display_data"
    }
   ],
   "source": [
    "from pyquil.quilbase import Reset, Pragma\n",
    "\n",
    "def hook(program, measurement_id_map):\n",
    "    program._instructions.insert(0, Reset())\n",
    "    program._instructions.insert(1, Pragma('INITIAL_REWIRING', freeform_string='GREEDY'))\n",
    "    print(program)\n",
    "    return program, measurement_id_map\n",
    "\n",
    "# assign qubits explicitly to hardware or virtual machine qubits.\n",
    "qubit_id_map = {\n",
    "   qubits[0]: 4,\n",
    "   qubits[1]: 5,\n",
    "}\n",
    "executor = executor = circuit_sweep_executors.with_quilc_compilation_and_cirq_parameter_resolution\n",
    "transformer = circuit_transformers.build(qubit_id_map=qubit_id_map, qubits=qubits, post_transformation_hooks=[hook])\n",
    "service = get_rigetti_qcs_service('Aspen-9', as_qvm=True, executor=executor, transformer=transformer)\n",
    "result = service.run(bell_circuit, repetitions=1000)\n",
    "\n",
    "plot_bell_state(result.histogram(key='m'))"
   ]
  },
  {
   "cell_type": "markdown",
   "metadata": {
    "id": "63a5382dc703"
   },
   "source": [
    "# Running a parameterized circuit\n",
    "\n",
    "Of course, you may be running a parameterized circuit and would like to leverage the [Quil compilers](https://pyquil-docs.rigetti.com/en/stable/compiler.html)'s support for parametric compilation. This affords a speedup in execution times as the Cirq Rigetti integration will only compile the circuit once for a single parameter sweep.\n",
    "\n",
    "We start by initializing the `RigettiQCSSampler` and specifying a circuit sweep executor that supports parametric compilation. Note, that this class accepts the same `executor` and `transformer` types as `RigettiQCSService`."
   ]
  },
  {
   "cell_type": "code",
   "execution_count": 33,
   "metadata": {
    "id": "58580fce0973"
   },
   "outputs": [],
   "source": [
    "from cirq_rigetti import get_rigetti_qcs_sampler\n",
    "\n",
    "executor = circuit_sweep_executors.with_quilc_parametric_compilation\n",
    "sampler = get_rigetti_qcs_sampler('Aspen-9', as_qvm=True, executor=executor)"
   ]
  },
  {
   "cell_type": "markdown",
   "metadata": {
    "id": "64190bcafd2c"
   },
   "source": [
    "Next, we will initialize a parameterized circuit in Cirq along with a set of parameter values."
   ]
  },
  {
   "cell_type": "code",
   "execution_count": 34,
   "metadata": {
    "id": "566e68350c37"
   },
   "outputs": [
    {
     "name": "stdout",
     "output_type": "stream",
     "text": [
      "0: ───H^t───M('m')───\n"
     ]
    }
   ],
   "source": [
    "import sympy\n",
    "\n",
    "qubit = cirq.LineQubit.range(1)[0]\n",
    "\n",
    "circuit = cirq.Circuit(\n",
    "    cirq.H(qubit)**sympy.Symbol('t'),\n",
    "    cirq.measure(qubit, key='m'))\n",
    "params = cirq.Linspace('t', start=0, stop=4, length=5)\n",
    "\n",
    "print(circuit)"
   ]
  },
  {
   "cell_type": "markdown",
   "metadata": {
    "id": "27c27f8eca4a"
   },
   "source": [
    "In much the same way that we invoke, `RigettiQCSSerivce.run`, we invoke `RigettiQCSSampler.run_sweep` with our parameters here."
   ]
  },
  {
   "cell_type": "code",
   "execution_count": 35,
   "metadata": {
    "id": "f0b7ac7a63b5"
   },
   "outputs": [
    {
     "data": {
      "text/html": [
       "<div>\n",
       "<style scoped>\n",
       "    .dataframe tbody tr th:only-of-type {\n",
       "        vertical-align: middle;\n",
       "    }\n",
       "\n",
       "    .dataframe tbody tr th {\n",
       "        vertical-align: top;\n",
       "    }\n",
       "\n",
       "    .dataframe thead th {\n",
       "        text-align: right;\n",
       "    }\n",
       "</style>\n",
       "<table border=\"1\" class=\"dataframe\">\n",
       "  <thead>\n",
       "    <tr style=\"text-align: right;\">\n",
       "      <th></th>\n",
       "      <th>t=0.0</th>\n",
       "      <th>t=1.0</th>\n",
       "      <th>t=2.0</th>\n",
       "      <th>t=3.0</th>\n",
       "      <th>t=4.0</th>\n",
       "    </tr>\n",
       "  </thead>\n",
       "  <tbody>\n",
       "    <tr>\n",
       "      <th>0</th>\n",
       "      <td>0</td>\n",
       "      <td>0</td>\n",
       "      <td>0</td>\n",
       "      <td>0</td>\n",
       "      <td>0</td>\n",
       "    </tr>\n",
       "    <tr>\n",
       "      <th>1</th>\n",
       "      <td>0</td>\n",
       "      <td>0</td>\n",
       "      <td>0</td>\n",
       "      <td>0</td>\n",
       "      <td>0</td>\n",
       "    </tr>\n",
       "    <tr>\n",
       "      <th>2</th>\n",
       "      <td>0</td>\n",
       "      <td>0</td>\n",
       "      <td>0</td>\n",
       "      <td>0</td>\n",
       "      <td>0</td>\n",
       "    </tr>\n",
       "    <tr>\n",
       "      <th>3</th>\n",
       "      <td>0</td>\n",
       "      <td>0</td>\n",
       "      <td>0</td>\n",
       "      <td>0</td>\n",
       "      <td>0</td>\n",
       "    </tr>\n",
       "    <tr>\n",
       "      <th>4</th>\n",
       "      <td>0</td>\n",
       "      <td>1</td>\n",
       "      <td>0</td>\n",
       "      <td>0</td>\n",
       "      <td>0</td>\n",
       "    </tr>\n",
       "    <tr>\n",
       "      <th>5</th>\n",
       "      <td>0</td>\n",
       "      <td>0</td>\n",
       "      <td>0</td>\n",
       "      <td>1</td>\n",
       "      <td>0</td>\n",
       "    </tr>\n",
       "    <tr>\n",
       "      <th>6</th>\n",
       "      <td>0</td>\n",
       "      <td>1</td>\n",
       "      <td>0</td>\n",
       "      <td>1</td>\n",
       "      <td>0</td>\n",
       "    </tr>\n",
       "    <tr>\n",
       "      <th>7</th>\n",
       "      <td>0</td>\n",
       "      <td>1</td>\n",
       "      <td>0</td>\n",
       "      <td>0</td>\n",
       "      <td>0</td>\n",
       "    </tr>\n",
       "    <tr>\n",
       "      <th>8</th>\n",
       "      <td>0</td>\n",
       "      <td>0</td>\n",
       "      <td>0</td>\n",
       "      <td>0</td>\n",
       "      <td>0</td>\n",
       "    </tr>\n",
       "    <tr>\n",
       "      <th>9</th>\n",
       "      <td>0</td>\n",
       "      <td>1</td>\n",
       "      <td>0</td>\n",
       "      <td>1</td>\n",
       "      <td>0</td>\n",
       "    </tr>\n",
       "  </tbody>\n",
       "</table>\n",
       "</div>"
      ],
      "text/plain": [
       "   t=0.0  t=1.0  t=2.0  t=3.0  t=4.0\n",
       "0      0      0      0      0      0\n",
       "1      0      0      0      0      0\n",
       "2      0      0      0      0      0\n",
       "3      0      0      0      0      0\n",
       "4      0      1      0      0      0\n",
       "5      0      0      0      1      0\n",
       "6      0      1      0      1      0\n",
       "7      0      1      0      0      0\n",
       "8      0      0      0      0      0\n",
       "9      0      1      0      1      0"
      ]
     },
     "execution_count": 35,
     "metadata": {},
     "output_type": "execute_result"
    }
   ],
   "source": [
    "import pandas as pd\n",
    "\n",
    "results = sampler.run_sweep(circuit, params, repetitions=10)\n",
    "data = {f't={result.params[\"t\"]}': [measurement[0] for measurement in result.measurements['m']] for result in results}\n",
    "\n",
    "pd.DataFrame(data)"
   ]
  }
 ],
 "metadata": {
  "colab": {
   "name": "getting_started.ipynb",
   "toc_visible": true
  },
  "kernelspec": {
   "display_name": "Python 3",
   "name": "python3"
  }
 },
 "nbformat": 4,
 "nbformat_minor": 0
}
